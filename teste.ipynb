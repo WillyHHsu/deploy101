{
 "cells": [
  {
   "cell_type": "code",
   "execution_count": 6,
   "metadata": {},
   "outputs": [],
   "source": [
    "import requests"
   ]
  },
  {
   "cell_type": "code",
   "execution_count": 29,
   "metadata": {},
   "outputs": [
    {
     "name": "stdout",
     "output_type": "stream",
     "text": [
      "status: 405\n",
      "content: b'<!DOCTYPE HTML PUBLIC \"-//W3C//DTD HTML 3.2 Final//EN\">\\n<title>405 Method Not Allowed</title>\\n<h1>Method Not Allowed</h1>\\n<p>The method is not allowed for the requested URL.</p>\\n'\n"
     ]
    }
   ],
   "source": [
    "res = requests.post('http://localhost:5000/', json=data)\n",
    "print(f'status: {res.status_code}\\ncontent: {res.content}')"
   ]
  },
  {
   "cell_type": "code",
   "execution_count": 22,
   "metadata": {},
   "outputs": [
    {
     "name": "stdout",
     "output_type": "stream",
     "text": [
      "status: 500\n",
      "content: b'<!DOCTYPE HTML PUBLIC \"-//W3C//DTD HTML 3.2 Final//EN\">\\n<title>500 Internal Server Error</title>\\n<h1>Internal Server Error</h1>\\n<p>The server encountered an internal error and was unable to complete your request. Either the server is overloaded or there is an error in the application.</p>\\n'\n"
     ]
    }
   ],
   "source": [
    "data = {\n",
    "'age': 30\n",
    ",'monthly_income': 4000\n",
    ",'collateral_value': 20000\n",
    ",'loan_amount': 30000\n",
    ",'collateral_debt': 0\n",
    ",'verified_restriction': 0\n",
    ",'dishonored_checks': 0\n",
    ",'banking_debts': 0\n",
    ",'commercial_debts':0\n",
    ",'form_completed':1\n",
    ",'landing_page_bins_/emprestimo/garantia-veiculo':0\n",
    ",'landing_page_bins_/emprestimos/solicitar':0\n",
    ",'ratio_colaretal_loan': 0.667\n",
    ",'ratio_loan_income': 20\n",
    ",'ratio_payment_income': 20\n",
    ",'channel_affiliates':0\n",
    ",'channel_direct': 0\n",
    ",'channel_display': 0\n",
    ",'channel_emailaffiliates': 0\n",
    ",'channel_search': 1\n",
    "}\n",
    "\n",
    "res = requests.post('http://localhost:5000/predict', json=data)\n",
    "print(f'status: {res.status_code}\\ncontent: {res.content}')\n"
   ]
  },
  {
   "cell_type": "code",
   "execution_count": 30,
   "metadata": {},
   "outputs": [],
   "source": [
    "!docker build -t nome:tag ."
   ]
  },
  {
   "cell_type": "code",
   "execution_count": null,
   "metadata": {},
   "outputs": [],
   "source": [
    "!docker container run -it --rm -p 5000:5000\n"
   ]
  }
 ],
 "metadata": {
  "kernelspec": {
   "display_name": "Python 3",
   "language": "python",
   "name": "python3"
  },
  "language_info": {
   "codemirror_mode": {
    "name": "ipython",
    "version": 3
   },
   "file_extension": ".py",
   "mimetype": "text/x-python",
   "name": "python",
   "nbconvert_exporter": "python",
   "pygments_lexer": "ipython3",
   "version": "3.8.5"
  }
 },
 "nbformat": 4,
 "nbformat_minor": 4
}
